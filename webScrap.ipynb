{
 "cells": [
  {
   "cell_type": "markdown",
   "id": "90c9a92e-3ace-471e-aad7-eb3c5f026709",
   "metadata": {},
   "source": [
    "<p style=\"color:blue;font-weight:700;font-size:25px; text-align: center;\"> Data Scrapping [1]</p>\n",
    "\n",
    "<p style=\"color:green;font-weight:600;font-size:16px; text-align: center;\"> Developed by: Abu Kibria,PhD </p>\n",
    "    <p style=\"color:green;font-weight:600;font-size:16px; text-align: center;\"> Midwest CASC, MI, USA </p>\n",
    "<p style=\"color:green;font-weight:600;font-size:14px; text-align: center;\"> (March 2025) </p>\n",
    "\n"
   ]
  },
  {
   "cell_type": "code",
   "execution_count": 3,
   "id": "4b5b3244-3035-47e8-bd9e-8c0aae27e0db",
   "metadata": {},
   "outputs": [],
   "source": [
    "import requests\n",
    "from bs4 import BeautifulSoup\n",
    "import pandas as pd"
   ]
  },
  {
   "cell_type": "markdown",
   "id": "15de5859-0e50-40c5-92be-00860747be1b",
   "metadata": {},
   "source": [
    "### Set up an agent"
   ]
  },
  {
   "cell_type": "code",
   "execution_count": null,
   "id": "dcf1e065-e5cd-43e4-b564-ff11fb819ca8",
   "metadata": {
    "tags": []
   },
   "outputs": [],
   "source": [
    "# Define URL and headers to mimic a browser\n",
    "url = \"https://www.michigan.gov/egle/about/organization/Water-Resources/Wetlands/consultants-list\"\n",
    "headers = {\n",
    "    \"User-Agent\": \"Mozilla/5.0 (Windows NT 10.0; Win64; x64) AppleWebKit/537.36 (KHTML, like Gecko) Chrome/91.0.4472.124 Safari/537.36\"\n",
    "}"
   ]
  },
  {
   "cell_type": "markdown",
   "id": "5e3a5be1-6bbb-4444-b835-83492f2e5f1c",
   "metadata": {},
   "source": [
    "### Fetching"
   ]
  },
  {
   "cell_type": "code",
   "execution_count": null,
   "id": "de78c1a2-10d9-45d8-92c1-4108fdf73e42",
   "metadata": {},
   "outputs": [],
   "source": [
    "# Fetch the webpage\n",
    "response = requests.get(url, headers=headers)\n",
    "\n",
    "# Ensure request was successful\n",
    "if response.status_code != 200:\n",
    "    print(f\"Failed to retrieve the webpage. Status code: {response.status_code}\")\n",
    "    exit()"
   ]
  },
  {
   "cell_type": "markdown",
   "id": "6635caf7-c6c5-45a0-a4e3-0d3738a9ca4b",
   "metadata": {},
   "source": [
    "### Table detection from the HTML codes"
   ]
  },
  {
   "cell_type": "code",
   "execution_count": null,
   "id": "f8b3d3ec-0c99-47a5-a0b7-6440a7cfa180",
   "metadata": {},
   "outputs": [],
   "source": [
    "# Parse HTML\n",
    "soup = BeautifulSoup(response.content, 'html.parser')\n",
    "\n",
    "# Identify the table\n",
    "table = soup.find('table')  # Try finding any table if specific class is unknown\n",
    "\n",
    "# Check if table is found\n",
    "if not table:\n",
    "    print(\"No table found on the page. Please check the webpage structure.\")\n",
    "    exit()"
   ]
  },
  {
   "cell_type": "markdown",
   "id": "d754dcde-92e6-4aa1-864e-96be383bfa83",
   "metadata": {},
   "source": [
    "### Extracting the data"
   ]
  },
  {
   "cell_type": "code",
   "execution_count": 10,
   "id": "5075bae2-97c5-4213-a706-62733d8d0695",
   "metadata": {},
   "outputs": [],
   "source": [
    "# Extract rows\n",
    "rows = table.find_all('tr')\n",
    "\n",
    "# Extract data\n",
    "data = []\n",
    "for row in rows[1:]:  # Skip header\n",
    "    cols = row.find_all('td')\n",
    "    \n",
    "    if len(cols) < 4:  # Ensure there are enough columns\n",
    "        continue\n",
    "    \n",
    "    consultant = cols[0].text.strip()\n",
    "    contact = cols[1].text.strip()\n",
    "    email = cols[2].find('a').text.strip() if cols[2].find('a') else \"N/A\"\n",
    "    city = cols[3].text.strip()\n",
    "    \n",
    "    data.append([consultant, contact, email, city])\n"
   ]
  },
  {
   "cell_type": "markdown",
   "id": "4909cbc1-5985-421f-a7ba-216211df72ed",
   "metadata": {},
   "source": [
    "### Double checking extraction"
   ]
  },
  {
   "cell_type": "code",
   "execution_count": null,
   "id": "3c239958-35a2-47dd-a9f3-9f5da1576dbb",
   "metadata": {},
   "outputs": [],
   "source": [
    "# Check if data was extracted\n",
    "if not data:\n",
    "    print(\"No data extracted. The webpage structure may have changed.\")\n",
    "    exit()"
   ]
  },
  {
   "cell_type": "markdown",
   "id": "841f9885-6761-4682-b716-3dbc42659c38",
   "metadata": {},
   "source": [
    "### Convert the data into dataframe & save"
   ]
  },
  {
   "cell_type": "code",
   "execution_count": null,
   "id": "db92ca51-d6f7-4ea5-8e35-6888459f35df",
   "metadata": {},
   "outputs": [],
   "source": [
    "# Create DataFrame and save to Excel\n",
    "df = pd.DataFrame(data, columns=[\"Consultant\", \"Contact\", \"Email\", \"City\"])\n",
    "df.to_excel(\"wetlands_consultants.xlsx\", index=False)\n",
    "\n",
    "print(\"Data saved to wetlands_consultants.xlsx!\")"
   ]
  }
 ],
 "metadata": {
  "kernelspec": {
   "display_name": "Python 3 (ipykernel)",
   "language": "python",
   "name": "python3"
  },
  "language_info": {
   "codemirror_mode": {
    "name": "ipython",
    "version": 3
   },
   "file_extension": ".py",
   "mimetype": "text/x-python",
   "name": "python",
   "nbconvert_exporter": "python",
   "pygments_lexer": "ipython3",
   "version": "3.10.9"
  }
 },
 "nbformat": 4,
 "nbformat_minor": 5
}
